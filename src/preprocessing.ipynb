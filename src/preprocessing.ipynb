{
 "cells": [
  {
   "cell_type": "markdown",
   "metadata": {},
   "source": [
    "# Initialization"
   ]
  },
  {
   "cell_type": "markdown",
   "metadata": {},
   "source": [
    "### Module Import"
   ]
  },
  {
   "cell_type": "code",
   "execution_count": null,
   "metadata": {},
   "outputs": [],
   "source": [
    "import numpy as np\n",
    "import pandas as pd\n",
    "import plotly.graph_objects as go\n",
    "from plotly.subplots import make_subplots"
   ]
  },
  {
   "cell_type": "markdown",
   "metadata": {},
   "source": [
    "### Parameter Setting"
   ]
  },
  {
   "cell_type": "code",
   "execution_count": null,
   "metadata": {},
   "outputs": [],
   "source": [
    "pass"
   ]
  },
  {
   "cell_type": "markdown",
   "metadata": {},
   "source": [
    "# Kaggle Data - Groceries Market Basket Dataset\n",
    "* Source: [click me](https://www.kaggle.com/irfanasrullah/groceries?select=groceries+-+groceries.csv)"
   ]
  },
  {
   "cell_type": "markdown",
   "metadata": {},
   "source": [
    "### Read Dataset\n",
    "* `./Kaggle_GMB/groceries - groceries.csv` -> Suitable for using pandas dataframe processing\n",
    "* `./Kaggle_GMB/groceries.csv` -> Suitable for using Python Standard Data Structure\n",
    "    * It is recommend to use this dataset for convenience in processing items"
   ]
  },
  {
   "cell_type": "code",
   "execution_count": null,
   "metadata": {},
   "outputs": [],
   "source": [
    "gmb_pd_data = pd.read_csv(\"../dataset/Kaggle_GMB/groceries - groceries.csv\")\n",
    "gmb_pd_data"
   ]
  },
  {
   "cell_type": "code",
   "execution_count": null,
   "metadata": {},
   "outputs": [],
   "source": [
    "gmb_list_fd = open('../dataset/Kaggle_GMB/groceries.csv', 'r')\n",
    "gmb_list_data = [line[:-1] for line in gmb_list_fd.readlines()]\n",
    "print(f\"Read {len(gmb_list_data)} Transactions\")\n",
    "gmb_list_fd.close()"
   ]
  },
  {
   "cell_type": "markdown",
   "metadata": {},
   "source": [
    "### Item Count Description"
   ]
  },
  {
   "cell_type": "code",
   "execution_count": null,
   "metadata": {},
   "outputs": [],
   "source": [
    "gmb_pd_data[['Item(s)']].describe()"
   ]
  },
  {
   "cell_type": "markdown",
   "metadata": {},
   "source": [
    "# IBM Data - Synthetic Data"
   ]
  },
  {
   "cell_type": "markdown",
   "metadata": {},
   "source": [
    "## Synthetic Data Command\n",
    "```shell=\n",
    "& '.\\IBM Quest Data Generator.exe' lit -fname './dataset/IBM/syndata' -npats 2500\n",
    "```"
   ]
  },
  {
   "cell_type": "code",
   "execution_count": null,
   "metadata": {},
   "outputs": [],
   "source": [
    "\n",
    "IBM_Quest_Data_Generator.exe"
   ]
  },
  {
   "cell_type": "markdown",
   "metadata": {},
   "source": [
    "# Testing Dataset from Moodle\n",
    "* Source: on Moodle Page"
   ]
  },
  {
   "cell_type": "markdown",
   "metadata": {},
   "source": [
    "# Kaggle Data - Heart Disease (Deprecated)\n",
    "* Source: [Click Me](https://www.kaggle.com/ronitf/heart-disease-uci)"
   ]
  },
  {
   "cell_type": "markdown",
   "metadata": {},
   "source": [
    "## Read Data"
   ]
  },
  {
   "cell_type": "code",
   "execution_count": null,
   "metadata": {},
   "outputs": [],
   "source": [
    "# Read Source UCI \n",
    "uci_data = pd.read_csv(\"../dataset/Kaggle_Heart/heart_disease.csv\")\n",
    "uci_data"
   ]
  },
  {
   "cell_type": "markdown",
   "metadata": {},
   "source": [
    "## Data Description\n",
    "* Schema Description\n",
    "    * Age - 年齡 (Unit: years)\n",
    "    * Sex - 性別 (1 for male, 0 for female)\n",
    "    * cp - 胸痛 (Chest Pain) 類別\n",
    "    * trestbps - 入住醫院時量測的 Resting Blood Pressure\n",
    "    * chol - 血清膽固醇 (Unit: mg/dl)\n",
    "    * fbs - 快速血糖檢測值 (fasting blood sugar) 是否大於 120 mg/dl (1 = true; 0 = false)\n",
    "    * restecg - resting electrocardiographic(心電圖) results\n",
    "        * 0 = Nothing to note\n",
    "        * 1 = ST-T Wave abnormality\n",
    "            * can range from mild symptoms(輕微症狀) to severe problems(嚴重問題)\n",
    "            * signals non-normal heart beat (心臟發出非正常心跳)\n",
    "        * 2 = Possible or definite left ventricular hypertrophy(可能的或是明確的左心室肥大)\n",
    "            * Enlarged heart's main pumping chamber (擴大的主心室)\n",
    "    * thalach - maximum heart rate achieved (量測最大心率值)\n",
    "    * exang - exercise induced angina(運動誘發的心絞痛)\n",
    "    * oldpeak - ST depression induced by exercise relative to rest (相對於休息，由運動引發的ST下降程度)\n",
    "* Reference: [Click Here](https://www.kaggle.com/ronitf/heart-disease-uci/discussion/273496)"
   ]
  },
  {
   "cell_type": "code",
   "execution_count": null,
   "metadata": {},
   "outputs": [],
   "source": [
    "for field_name in uci_data.columns.values:\n",
    "    col_description = uci_data[field_name].describe()\n",
    "\n",
    "    fig = make_subplots(\n",
    "        rows=1,\n",
    "        cols=3,\n",
    "        subplot_titles=(\"Index-Value Distribution\", \"Boxplot\", \"Histogram\")\n",
    "    )\n",
    "\n",
    "    fig.add_trace(\n",
    "        go.Scatter(\n",
    "            x=np.arange(0, len(uci_data), 1),\n",
    "            y=uci_data[field_name],\n",
    "            mode='markers',\n",
    "            name=f'(Index, {field_name})'\n",
    "        ),\n",
    "        row=1,\n",
    "        col=1,\n",
    "    )\n",
    "\n",
    "    fig.add_trace(\n",
    "        go.Box(\n",
    "            y=uci_data[field_name],\n",
    "            name=f\"max: {col_description['max']}<br>Q3: {col_description['75%']}<br>Q2: {col_description['50%']}<br>Q1: {col_description['25%']}<br>min: {col_description['min']}\",\n",
    "        ),\n",
    "        row=1,\n",
    "        col=2,\n",
    "    )\n",
    "\n",
    "    fig.add_trace(\n",
    "        go.Histogram(\n",
    "            x=uci_data[field_name],\n",
    "            name=f'(Range, Count)'\n",
    "        ),\n",
    "        row=1,\n",
    "        col=3,\n",
    "    )\n",
    "\n",
    "    fig['layout']['xaxis']['title'] = f\"Count: {col_description['count']}\"\n",
    "    fig['layout']['xaxis3']['title'] = f\"mean: {col_description['mean']:.2f}, std: {col_description['std']:.2f}\"\n",
    "\n",
    "    fig.update_layout(\n",
    "        title_text=f\"Field <{field_name}> Values Visualization\",\n",
    "        title_x=0.5,\n",
    "        showlegend=False,\n",
    "    )\n",
    "\n",
    "    fig.show()"
   ]
  }
 ],
 "metadata": {
  "interpreter": {
   "hash": "4028366ea29e3c078cc06b03e4031cbf8ebedaa9125e73b800910c3aa80bcdee"
  },
  "kernelspec": {
   "display_name": "Python 3.8.10 64-bit ('2021_DataMining_Project_01-Wi3BK_1j': pipenv)",
   "name": "python3"
  },
  "language_info": {
   "codemirror_mode": {
    "name": "ipython",
    "version": 3
   },
   "file_extension": ".py",
   "mimetype": "text/x-python",
   "name": "python",
   "nbconvert_exporter": "python",
   "pygments_lexer": "ipython3",
   "version": "3.8.10"
  },
  "orig_nbformat": 4
 },
 "nbformat": 4,
 "nbformat_minor": 2
}
